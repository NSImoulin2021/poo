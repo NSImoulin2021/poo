{
 "cells": [
  {
   "cell_type": "code",
   "execution_count": 14,
   "metadata": {},
   "outputs": [
    {
     "data": {
      "text/plain": [
       "(132, 144, 87)"
      ]
     },
     "execution_count": 14,
     "metadata": {},
     "output_type": "execute_result"
    }
   ],
   "source": [
    "import doctest\n",
    "\n",
    "def niveau(n1, n2, p):\n",
    "    \"\"\"\n",
    "    >>> niveau(0, 255, .2)\n",
    "    51\n",
    "    >>> niveau(120, 156, .34)\n",
    "    132\n",
    "    >>> niveau(156, 120, .34)\n",
    "    144\n",
    "    \"\"\"\n",
    "    assert (0 <= n1 <= 255) and (0 <= n2 <= 255) and (0 <= p <= 1) \n",
    "    return round(n1 * (1 - p) + n2 * p)\n",
    "\n",
    "def niveau_tuple(t1, t2, p):\n",
    "    \"\"\"\n",
    "    >>> niveau_tuple((120, 156, 0), (156, 120, 255), .34)\n",
    "    (132, 144, 87)\n",
    "    \"\"\"\n",
    "    assert len(t1) == len(t2)\n",
    "    return tuple([niveau(e, f, p) for e, f in zip(t1, t2)])\n",
    "\n",
    "def titre_html(couleur_RGB):\n",
    "    titre = \"<h1 style='background-color:rgb\"\n",
    "    titre += str(couleur_RGB)\n",
    "    titre += \";'>\"\n",
    "    titre += str(couleur_RGB)\n",
    "    titre += \"</h1>\"\n",
    "    return titre\n",
    "\n",
    "class Degrade_couleurs:\n",
    "        def moyenne_tuple(t):\n",
    "            return round(sum(t) / len(t))\n",
    "    \n",
    "        def __init__(self, couleur_debut, couleur_fin):\n",
    "            self.couleur_debut = couleur_debut\n",
    "            self.couleur_fin = couleur_fin\n",
    "            \n",
    "        def get_couleur(self, p):\n",
    "            return niveau_tuple(self.couleur_debut, self.couleur_fin, p)\n",
    "        \n",
    "        def get_couleur_nb(self, p):\n",
    "            return Degrade_couleurs.moyenne_tuple(self.get_couleur(p))\n",
    "    \n",
    "        def contenu(self):\n",
    "            \"\"\" Renvoie le contenu du fichier html\n",
    "            \"\"\"\n",
    "            entete = \"\"\"<html>\n",
    "            <head>\n",
    "            <title>Exemple de calcul d'ue couleur comprise entre deux autres</title>\n",
    "            </head>\n",
    "            <body>\n",
    "            \"\"\"\n",
    "            fin = \"\"\"</body>\n",
    "            </html>\"\"\"\n",
    "            \n",
    "            t_debut = titre_html(self.couleur_debut)\n",
    "            t_fin = titre_html(self.couleur_fin)\n",
    "            \n",
    "    \n",
    "        def sortie_html(self, nom_fichier):\n",
    "            with open(nom_fichier, \"w\") as fh:\n",
    "                fh.write(self.contenu())\n",
    "            \n",
    "    \n",
    "doctest.testmod()\n",
    "sorte_de_vert = (120, 156, 0)\n",
    "sorte_de_violet = (156, 120, 255)\n",
    "d = Degrade_couleurs(sorte_de_vert, sorte_de_violet)\n",
    "d.get_couleur(.34)"
   ]
  },
  {
   "cell_type": "code",
   "execution_count": null,
   "metadata": {},
   "outputs": [],
   "source": []
  }
 ],
 "metadata": {
  "kernelspec": {
   "display_name": "Python 3",
   "language": "python",
   "name": "python3"
  },
  "language_info": {
   "codemirror_mode": {
    "name": "ipython",
    "version": 3
   },
   "file_extension": ".py",
   "mimetype": "text/x-python",
   "name": "python",
   "nbconvert_exporter": "python",
   "pygments_lexer": "ipython3",
   "version": "3.8.6"
  }
 },
 "nbformat": 4,
 "nbformat_minor": 4
}
