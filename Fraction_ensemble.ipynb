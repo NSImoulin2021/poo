{
 "cells": [
  {
   "cell_type": "code",
   "execution_count": null,
   "metadata": {},
   "outputs": [],
   "source": [
    "class Fraction:\n",
    "       \n",
    "    def __init__(self, n, d):\n",
    "        self.__numerateur = n\n",
    "        self.__denominateur = d\n",
    "        self.__simplification()\n",
    "    \n",
    "    def get_num(self):\n",
    "        return self.__numerateur\n",
    "    \n",
    "    def get_den(self):\n",
    "        return self.__denominateur\n",
    "    \n",
    "    def __euclide(a, b):\n",
    "        if a < b:\n",
    "            a, b = b, a\n",
    "        while b!= 0:\n",
    "            a, b = b, a % b\n",
    "        return a\n",
    "    \n",
    "    def __simplification(self):\n",
    "        pgdc = Fraction.__euclide(self.__numerateur, self.__denominateur)\n",
    "        self.__numerateur //= pgdc\n",
    "        self.__denominateur //= pgdc    \n",
    "    \n",
    "    def oppose(f):\n",
    "        return Fraction(-1 * f.get_num(), f.get_den())\n",
    "        \n",
    "    def multiplication(self, f):\n",
    "        self.__numerateur *= f.get_num()\n",
    "        self.__denominateur *= f.get_den()\n",
    "        self.__simplification()\n",
    "        \n",
    "    def addition(self, f):\n",
    "        self.__numerateur = self.__numerateur * f.get_den() \\\n",
    "                             + self.__denominateur * f.get_num()\n",
    "        self.__denominateur = self.__denominateur * f.get_den()\n",
    "        self.__simplification()\n",
    "    \n",
    "    def soustraction(self, f):\n",
    "        self.addition(Fraction.oppose(f))\n",
    "        \n",
    "    def __str__(self):\n",
    "        return f\"{self.get_num()} / {self.get_den()}\"\n",
    "       # return str(sel.get_num()) + \" / \" + str(self.get_den())\n",
    "\n",
    "\n",
    "f = Fraction(15, 25)\n",
    "g = Fraction(5, 1)\n",
    "\n",
    "f.addition(g)\n",
    "print(f)"
   ]
  },
  {
   "cell_type": "code",
   "execution_count": null,
   "metadata": {},
   "outputs": [],
   "source": []
  }
 ],
 "metadata": {
  "kernelspec": {
   "display_name": "Python 3",
   "language": "python",
   "name": "python3"
  },
  "language_info": {
   "codemirror_mode": {
    "name": "ipython",
    "version": 3
   },
   "file_extension": ".py",
   "mimetype": "text/x-python",
   "name": "python",
   "nbconvert_exporter": "python",
   "pygments_lexer": "ipython3",
   "version": "3.8.5"
  }
 },
 "nbformat": 4,
 "nbformat_minor": 4
}
